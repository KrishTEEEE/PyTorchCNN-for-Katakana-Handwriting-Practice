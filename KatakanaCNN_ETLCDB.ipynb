{
 "cells": [
  {
   "cell_type": "markdown",
   "metadata": {},
   "source": [
    "# Katakana Recognition\n",
    "### Aimed to support Japanese handwriting Learning\n",
    "The Japanese language consists of 3 writing systems, Hirgana, Katakana and Kanji. In this notebook, we will implement a Convolutional Neural Network that recognizes handwritten Katakana characters, it will be trained on images from the **ETLCDB database** (http://etlcdb.db.aist.go.jp/).\n",
    "\n",
    "*Database used: ETL6 Character Database, Electrotechnical Laboratory, Japanese Technical Committee for Optical Character Recognition, ETL Character Database, 1973-1984.*"
   ]
  },
  {
   "cell_type": "code",
   "execution_count": 2,
   "metadata": {},
   "outputs": [],
   "source": [
    "# Import libraries\n",
    "import torch\n",
    "import numpy as np\n",
    "import matplotlib.pyplot as plt\n",
    "%matplotlib inline\n",
    "\n",
    "# PyTorch dataset\n",
    "from torchvision import datasets\n",
    "import torchvision.transforms as transforms\n",
    "from torch.utils.data.sampler import SubsetRandomSampler\n",
    "\n",
    "# PyTorch model\n",
    "import torch.nn as nn\n",
    "import torch.nn.functional as F\n",
    "import torch.optim as optim"
   ]
  },
  {
   "cell_type": "markdown",
   "metadata": {},
   "source": [
    "## GPU Acceleration\n",
    "Since deep learning involves huge amounts of matrix computations, moving the calculations onto a GPU allows for parallel computing to save time, especially for model training.\n",
    "\n",
    "Since I am using a Mac, I will be using **Apple's MPS GPU framework** to do acceleration, if you have a **CUDA GPU**, you can use that instead."
   ]
  },
  {
   "cell_type": "code",
   "execution_count": null,
   "metadata": {},
   "outputs": [],
   "source": [
    "if torch.cuda.is_available():\n",
    "    device = torch.device('cuda')\n",
    "    print(\"Using CUDA (NVIDIA GPU)\")\n",
    "elif torch.backends.mps.is_available():\n",
    "    device = torch.device('mps')\n",
    "    print(\"Using MPS (Apple Silicon)\")\n",
    "else:\n",
    "    device = torch.device('cpu')\n",
    "    print(\"Using CPU\")"
   ]
  },
  {
   "cell_type": "markdown",
   "metadata": {},
   "source": [
    "## ETLCDB Data\n",
    "#### Reformatting the data to be PyTorch compatible\n",
    "\n",
    "We will be using datasets.ImageFolder from the torchvision package to load our images into the notebook, however this only works for the following structure:\n",
    "\n",
    "/Root\n",
    "\n",
    "-- class1/\n",
    "\n",
    "-- class2/\n",
    "\n",
    "-- class3/\n",
    "\n",
    "...\n",
    "\n",
    "\n"
   ]
  },
  {
   "cell_type": "markdown",
   "metadata": {},
   "source": [
    "Since all the different characters are separated between different *unpack* directories, and are described by a particular csv file, we go through all the csv files to obtain the index range of the images of each character\n",
    "E.g.\n",
    "\n",
    "**ア ranges from index 0 to 1382, イ from 1383 to 2765 ...**"
   ]
  },
  {
   "cell_type": "code",
   "execution_count": null,
   "metadata": {},
   "outputs": [],
   "source": [
    "import csv\n",
    "import os\n",
    "\n",
    "os.chdir('/Users/krishteee/Desktop/JapaneseOCR') #Replace with the directory your notebook is in\n",
    "\n",
    "data_csv = [['ETL6C_01_unpack', 'ETL6C_02_unpack', 'ETL6C_03_unpack', 'ETL6C_04_unpack', 'ETL6C_05_unpack'],\n",
    "            ['meta01.csv', 'meta02.csv', 'meta03.csv', 'meta04.csv', 'meta05.csv']]\n",
    "\n",
    "csvs = data_csv[1]\n",
    "all_classes = []\n",
    "for csv_file in csvs:\n",
    "    with open(csv_file, 'r') as csv_opened: #'r' specified that I am reading this csv file\n",
    "        csv_reader = csv.reader(csv_opened)\n",
    "\n",
    "        next(csv_reader) #returns row 0, so that when we iterate through the iterator afterwards, we skip past the row header\n",
    "        initial = next(csv_reader)\n",
    "        all_classes.append([initial[1], 0])\n",
    "\n",
    "        newest_char = initial[1]\n",
    "        i = 0\n",
    "        for i, line in enumerate(csv_reader):\n",
    "            if(newest_char != line[1]): #if true, means we have encountered a new character, create new class\n",
    "                newest_char = line[1]\n",
    "\n",
    "                all_classes[-1].append(i) #line index of last row with the same character\n",
    "                all_classes.append([newest_char, i+1])\n",
    "            \n",
    "        all_classes[-1].append(i) #Manually append line index of last row to the last class\n",
    "        print(f\"Size: {len(all_classes)} --> {all_classes}\\n\")\n",
    "\n",
    "if not os.path.exists('katakana') :\n",
    "    os.mkdir('katakana') #This will be your target directory containing the reformatted images\n",
    "\n"
   ]
  },
  {
   "cell_type": "markdown",
   "metadata": {},
   "source": [
    "Below, we first make the directories for each class within the target directory.\n",
    "Then, we look into the directories holding the unpacked images.\n",
    "\n",
    "**Conveniently, the images are named [the index].png**, so we split the image file name from its file type \"png\", then check if the index is within the range of the class we have iterated to, if so, we move the image to the respective class of the target directory"
   ]
  },
  {
   "cell_type": "code",
   "execution_count": null,
   "metadata": {},
   "outputs": [],
   "source": [
    "import shutil #file operations\n",
    "\n",
    "\n",
    "source_dir = '/Users/krishteee/Desktop/JapaneseOCR/ETL6' #Replace with directory holding your unpacked ETLCDB images\n",
    "target_dir = '/Users/krishteee/Desktop/JapaneseOCR/katakana' #Replace with target directory you want the reformatted data to be in\n",
    "\n",
    "\n",
    "os.makedirs(target_dir, exist_ok = True)\n",
    "for katakana in all_classes: #Creates all class folders in destination katakana folder\n",
    "    class_dir = os.path.join(target_dir, katakana[0])\n",
    "    os.makedirs(class_dir, exist_ok = True)\n",
    "\n",
    "i = 0\n",
    "for pack_no, image_group in enumerate(data_csv[0]):\n",
    "\n",
    "    image_dir = os.path.join(source_dir, image_group)\n",
    "    while i < (pack_no+1)*10:\n",
    "        image_move_op_count = 0\n",
    "        actual_image_moved = 0\n",
    "\n",
    "        class_dir = os.path.join(target_dir, all_classes[i][0])\n",
    "\n",
    "        for image in os.listdir(image_dir):\n",
    "            if image == '.DS_Store':\n",
    "                continue #skips this iteration\n",
    "            \n",
    "            image_no = int(os.path.splitext(image)[0])\n",
    "            if (image_no >= all_classes[i][1]) and (image_no <= all_classes[i][2]):\n",
    "                image_file = os.path.join(image_dir, image)\n",
    "                destination_file = os.path.join(class_dir, image)\n",
    "                if os.path.isfile(image_file):\n",
    "                    try:\n",
    "                        shutil.move(image_file, destination_file)\n",
    "                        actual_image_moved += 1\n",
    "                    except Exception as e:\n",
    "                        print(f\"{e}    Error moving {image} under {image_dir}\")\n",
    "\n",
    "                image_move_op_count += 1\n",
    "            if image_move_op_count == (all_classes[i][2]-all_classes[i][1] +1):\n",
    "                print(f\"Image moving for this class complete. Images moved: {actual_image_moved}\")\n",
    "                break\n",
    "\n",
    "        i += 1\n"
   ]
  },
  {
   "cell_type": "markdown",
   "metadata": {},
   "source": [
    "## With image structure reformatted, we can now move onto the actual CNN part of the project"
   ]
  },
  {
   "cell_type": "markdown",
   "metadata": {},
   "source": [
    "## Load the Data"
   ]
  },
  {
   "cell_type": "code",
   "execution_count": 4,
   "metadata": {},
   "outputs": [],
   "source": [
    "# number of subprocesses to use for data loading\n",
    "num_workers = 0\n",
    "# how many samples per batch to load\n",
    "batch_size = 20\n",
    "# percentage of training set to use as validation\n",
    "valid_split = 0.1\n",
    "\n",
    "test_split = 0.1"
   ]
  },
  {
   "cell_type": "code",
   "execution_count": null,
   "metadata": {},
   "outputs": [],
   "source": [
    "train_dir = '/Users/krishteee/Desktop/JapaneseOCR/katakana' #Replace with your own directory containing all the images\n",
    "\n",
    "train_transform = transforms.Compose([  transforms.RandomRotation(15),\n",
    "                                        transforms.Resize(36),\n",
    "                                        transforms.CenterCrop(32),\n",
    "                                        transforms.Grayscale(num_output_channels=1), #convert to grayscale to reduce redundant computation\n",
    "                                        transforms.ToTensor(),\n",
    "                                        transforms.Normalize((0.5), (0.5))])\n",
    "\n",
    "test_transform = transforms.Compose([   transforms.Resize(36),\n",
    "                                        transforms.CenterCrop(32),\n",
    "                                        transforms.Grayscale(num_output_channels=1),\n",
    "                                        transforms.ToTensor(),\n",
    "                                        transforms.Normalize((0.5), (0.5))])\n",
    "\n",
    "train_set = datasets.ImageFolder(train_dir, transform = train_transform)\n",
    "test_set = datasets.ImageFolder(train_dir, transform = test_transform) #Same dataset, but different transforms since we don't need augmentation for testing\n",
    "#Concern: Whether the order of the dataset is different everytime you load dataset\n",
    "\n",
    "train_size = len(train_set)\n",
    "\n",
    "indices = list(range(train_size))\n",
    "np.random.shuffle(indices)\n",
    "\n",
    "valid_size = int(np.floor(valid_split * train_size))\n",
    "test_size = int(np.floor(test_split * train_size))\n",
    "\n",
    "train_indices = indices[(valid_size + test_size): ]\n",
    "valid_indices = indices[: valid_size]\n",
    "test_indices = indices[valid_size: (valid_size + test_size)]\n",
    "\n",
    "train_sampler = SubsetRandomSampler(train_indices)\n",
    "valid_sampler = SubsetRandomSampler(valid_indices)\n",
    "test_sampler = SubsetRandomSampler(test_indices)\n",
    "\n",
    "\n",
    "train_loader = torch.utils.data.DataLoader(train_set, batch_size = batch_size, sampler = train_sampler)\n",
    "valid_loader = torch.utils.data.DataLoader(train_set, batch_size = batch_size, sampler = valid_sampler)\n",
    "test_loader = torch.utils.data.DataLoader(test_set, batch_size = batch_size, sampler = test_sampler)"
   ]
  },
  {
   "cell_type": "code",
   "execution_count": null,
   "metadata": {},
   "outputs": [
    {
     "name": "stdout",
     "output_type": "stream",
     "text": [
      "{'0': 0, '1': 1, '10': 2, '11': 3, '12': 4, '13': 5, '14': 6, '15': 7, '16': 8, '17': 9, '18': 10, '19': 11, '2': 12, '20': 13, '21': 14, '22': 15, '23': 16, '24': 17, '25': 18, '26': 19, '27': 20, '28': 21, '29': 22, '3': 23, '30': 24, '31': 25, '32': 26, '33': 27, '34': 28, '35': 29, '36': 30, '37': 31, '38': 32, '39': 33, '4': 34, '40': 35, '41': 36, '42': 37, '43': 38, '44': 39, '45': 40, '46': 41, '47': 42, '48': 43, '49': 44, '5': 45, '6': 46, '7': 47, '8': 48, '9': 49}\n"
     ]
    }
   ],
   "source": [
    "print(train_set.class_to_idx) #Dictionary mapping class name to index\n",
    "#Lexicographical order, which caused the initial problem"
   ]
  },
  {
   "cell_type": "code",
   "execution_count": 6,
   "metadata": {},
   "outputs": [],
   "source": [
    "# specify the image classes\n",
    "classes = ['ア', 'イ', 'ウ', 'エ','オ','カ', 'キ', 'ク', 'ケ', 'コ', 'サ', 'シ', 'ス', 'セ', 'ソ', 'タ', 'チ', 'ツ', 'テ', 'ト', 'ナ', 'ニ', 'ヌ', 'ネ', 'ノ', 'ハ', 'ヒ', 'フ', 'ヘ', 'ホ', 'マ', 'ミ', 'ム', 'メ', 'モ', 'ヤ', 'ユ', 'ヨ', 'ラ', 'リ', 'ル', 'レ', 'ロ', 'ワ', 'ヲ', 'ン', 'ﾞ', 'ﾟ', '「', '」']"
   ]
  },
  {
   "cell_type": "markdown",
   "metadata": {},
   "source": [
    "### Visualize a Batch of Training Data"
   ]
  },
  {
   "cell_type": "code",
   "execution_count": 7,
   "metadata": {},
   "outputs": [],
   "source": [
    "# helper function to un-normalize and display an image\n",
    "def imshow(img):\n",
    "    img = img / 2 + 0.5  # unnormalize\n",
    "    plt.imshow(np.transpose(img, (1, 2, 0)))  # convert from Tensor image"
   ]
  },
  {
   "cell_type": "code",
   "execution_count": null,
   "metadata": {},
   "outputs": [
    {
     "name": "stdout",
     "output_type": "stream",
     "text": [
      "<class 'torch.Tensor'>\n"
     ]
    },
    {
     "data": {
      "text/plain": [
       "(20, 1, 32, 32)"
      ]
     },
     "execution_count": 14,
     "metadata": {},
     "output_type": "execute_result"
    }
   ],
   "source": [
    "# obtain one batch of training images\n",
    "\n",
    "images, labels = next(iter(train_loader))\n",
    "images = images.numpy() # convert images to numpy for display\n",
    "images.shape"
   ]
  },
  {
   "cell_type": "code",
   "execution_count": 8,
   "metadata": {},
   "outputs": [],
   "source": [
    "#configure matplotlib to a japanese-supported font\n",
    "plt.rcParams['font.family'] = 'Hiragino Maru Gothic Pro'"
   ]
  },
  {
   "cell_type": "code",
   "execution_count": 17,
   "metadata": {},
   "outputs": [
    {
     "data": {
      "image/png": "[encoded data removed]",
      "text/plain": [
       "<Figure size 640x480 with 1 Axes>"
      ]
     },
     "metadata": {},
     "output_type": "display_data"
    },
    {
     "name": "stdout",
     "output_type": "stream",
     "text": [
      "tensor([ 6, 45, 47, 25, 19, 24, 18,  8,  0, 16, 16, 42, 24, 47,  0, 29, 16, 32,\n",
      "        38,  6])\n"
     ]
    }
   ],
   "source": [
    "imshow(images[0])\n",
    "\n",
    "plt.show()\n",
    "\n",
    "print(labels)"
   ]
  },
  {
   "cell_type": "code",
   "execution_count": 116,
   "metadata": {},
   "outputs": [],
   "source": [
    "#Seems like the indices are mismatched, may have been better to just name the folders 0,1,2,3..., then correspond them to the classes list\n",
    "\n",
    "for katakana in all_classes: #Creates all class folders in destination katakana folder\n",
    "    class_dir = os.path.join(target_dir, katakana[0])\n",
    "    os.rename(class_dir, str(all_classes.index(katakana)))"
   ]
  },
  {
   "cell_type": "code",
   "execution_count": 271,
   "metadata": {},
   "outputs": [
    {
     "data": {
      "image/png": "[encoded data removed]",
      "text/plain": [
       "<Figure size 2500x400 with 20 Axes>"
      ]
     },
     "metadata": {},
     "output_type": "display_data"
    }
   ],
   "source": [
    "# plot the images in the batch, along with the corresponding labels\n",
    "fig = plt.figure(figsize=(25, 4))\n",
    "# display 20 images\n",
    "for idx in np.arange(20):\n",
    "    ax = fig.add_subplot(2, int(20/2), idx+1, xticks=[], yticks=[])\n",
    "    imshow(images[idx])\n",
    "    ax.set_title(classes[labels[idx]])\n",
    "plt.show()"
   ]
  },
  {
   "cell_type": "markdown",
   "metadata": {},
   "source": [
    "### Defining the CNN architecture"
   ]
  },
  {
   "cell_type": "code",
   "execution_count": null,
   "metadata": {},
   "outputs": [],
   "source": [
    "class Net(nn.Module):\n",
    "    def __init__(self):\n",
    "        super(Net, self).__init__()\n",
    "        self.conv1 = nn.Conv2d(1, 16, 3, padding = 1)\n",
    "        self.conv2 = nn.Conv2d(16, 32, 3, padding = 1)\n",
    "        self.conv3 = nn.Conv2d(32, 64, 3, padding = 1)\n",
    "\n",
    "        self.pool = nn.MaxPool2d(2, 2)\n",
    "\n",
    "        self.fc1 = nn.Linear(1024, 512)\n",
    "        self.fc2 = nn.Linear(512, 50) #Switched from hiragana to katakana, so 46 --> 50!\n",
    "        self.dropout = nn.Dropout(p = 0.2)\n",
    "\n",
    "    def forward(self, x):\n",
    "        x = self.pool(F.relu(self.conv1(x)))\n",
    "        x = self.pool(F.relu(self.conv2(x)))\n",
    "        x = self.pool(F.relu(self.conv3(x)))\n",
    "\n",
    "        x = x.view(x.shape[0], -1)\n",
    "        x = self.dropout(F.relu(self.fc1(x)))\n",
    "        x = self.fc2(x)\n",
    "        return x"
   ]
  },
  {
   "cell_type": "code",
   "execution_count": 10,
   "metadata": {},
   "outputs": [
    {
     "data": {
      "text/plain": [
       "Net(\n",
       "  (conv1): Conv2d(1, 16, kernel_size=(3, 3), stride=(1, 1), padding=(1, 1))\n",
       "  (conv2): Conv2d(16, 32, kernel_size=(3, 3), stride=(1, 1), padding=(1, 1))\n",
       "  (conv3): Conv2d(32, 64, kernel_size=(3, 3), stride=(1, 1), padding=(1, 1))\n",
       "  (pool): MaxPool2d(kernel_size=2, stride=2, padding=0, dilation=1, ceil_mode=False)\n",
       "  (fc1): Linear(in_features=1024, out_features=512, bias=True)\n",
       "  (fc2): Linear(in_features=512, out_features=50, bias=True)\n",
       "  (dropout): Dropout(p=0.2, inplace=False)\n",
       ")"
      ]
     },
     "execution_count": 10,
     "metadata": {},
     "output_type": "execute_result"
    }
   ],
   "source": [
    "# create a complete CNN\n",
    "model = Net()\n",
    "model"
   ]
  },
  {
   "cell_type": "code",
   "execution_count": 11,
   "metadata": {},
   "outputs": [
    {
     "data": {
      "text/plain": [
       "device(type='mps')"
      ]
     },
     "execution_count": 11,
     "metadata": {},
     "output_type": "execute_result"
    }
   ],
   "source": [
    "model.to(device)\n",
    "device"
   ]
  },
  {
   "cell_type": "markdown",
   "metadata": {},
   "source": [
    "### Specify Loss Function"
   ]
  },
  {
   "cell_type": "code",
   "execution_count": 12,
   "metadata": {},
   "outputs": [],
   "source": [
    "# specify loss function (categorical cross-entropy)\n",
    "criterion = nn.CrossEntropyLoss()\n",
    "\n",
    "# specify optimizer\n",
    "optimizer = optim.SGD(model.parameters(), lr = 0.1)"
   ]
  },
  {
   "cell_type": "markdown",
   "metadata": {},
   "source": [
    "---\n",
    "## Train the Network\n",
    "\n",
    "Remember to look at how the training and validation loss decreases over time; if the validation loss ever increases it indicates possible overfitting."
   ]
  },
  {
   "cell_type": "code",
   "execution_count": null,
   "metadata": {},
   "outputs": [
    {
     "name": "stdout",
     "output_type": "stream",
     "text": [
      "Epoch: 1 \tTraining Loss: 0.673516 \tValidation Loss: 0.086151\n",
      "Validation loss decreased (inf --> 0.086151).  Saving model ...\n",
      "Epoch: 2 \tTraining Loss: 0.094000 \tValidation Loss: 0.048747\n",
      "Validation loss decreased (0.086151 --> 0.048747).  Saving model ...\n",
      "Epoch: 3 \tTraining Loss: 0.063636 \tValidation Loss: 0.044432\n",
      "Validation loss decreased (0.048747 --> 0.044432).  Saving model ...\n",
      "Epoch: 4 \tTraining Loss: 0.045914 \tValidation Loss: 0.041038\n",
      "Validation loss decreased (0.044432 --> 0.041038).  Saving model ...\n",
      "Epoch: 5 \tTraining Loss: 0.037178 \tValidation Loss: 0.044504\n",
      "Epoch: 6 \tTraining Loss: 0.031911 \tValidation Loss: 0.048128\n",
      "Epoch: 7 \tTraining Loss: 0.030247 \tValidation Loss: 0.039764\n",
      "Validation loss decreased (0.041038 --> 0.039764).  Saving model ...\n",
      "Epoch: 8 \tTraining Loss: 0.025847 \tValidation Loss: 0.034894\n",
      "Validation loss decreased (0.039764 --> 0.034894).  Saving model ...\n",
      "Epoch: 9 \tTraining Loss: 0.023266 \tValidation Loss: 0.026164\n",
      "Validation loss decreased (0.034894 --> 0.026164).  Saving model ...\n",
      "Epoch: 10 \tTraining Loss: 0.020979 \tValidation Loss: 0.034469\n",
      "Epoch: 11 \tTraining Loss: 0.020376 \tValidation Loss: 0.039127\n",
      "Epoch: 12 \tTraining Loss: 0.018254 \tValidation Loss: 0.028536\n",
      "Epoch: 13 \tTraining Loss: 0.015547 \tValidation Loss: 0.025633\n",
      "Validation loss decreased (0.026164 --> 0.025633).  Saving model ...\n",
      "Epoch: 14 \tTraining Loss: 0.016292 \tValidation Loss: 0.027863\n",
      "Epoch: 15 \tTraining Loss: 0.014662 \tValidation Loss: 0.031343\n",
      "Epoch: 16 \tTraining Loss: 0.014458 \tValidation Loss: 0.024452\n",
      "Validation loss decreased (0.025633 --> 0.024452).  Saving model ...\n",
      "Epoch: 17 \tTraining Loss: 0.014661 \tValidation Loss: 0.027304\n",
      "Epoch: 18 \tTraining Loss: 0.012626 \tValidation Loss: 0.027439\n",
      "Epoch: 19 \tTraining Loss: 0.012540 \tValidation Loss: 0.029467\n",
      "Epoch: 20 \tTraining Loss: 0.012541 \tValidation Loss: 0.039174\n",
      "Epoch: 21 \tTraining Loss: 0.011956 \tValidation Loss: 0.032034\n",
      "Epoch: 22 \tTraining Loss: 0.012422 \tValidation Loss: 0.031452\n",
      "Epoch: 23 \tTraining Loss: 0.011926 \tValidation Loss: 0.026023\n",
      "Epoch: 24 \tTraining Loss: 0.011143 \tValidation Loss: 0.028549\n",
      "Epoch: 25 \tTraining Loss: 0.012037 \tValidation Loss: 0.030364\n",
      "Epoch: 26 \tTraining Loss: 0.009965 \tValidation Loss: 0.035334\n",
      "Epoch: 27 \tTraining Loss: 0.008658 \tValidation Loss: 0.034469\n",
      "Epoch: 28 \tTraining Loss: 0.009155 \tValidation Loss: 0.032081\n",
      "Epoch: 29 \tTraining Loss: 0.012033 \tValidation Loss: 0.036217\n",
      "Epoch: 30 \tTraining Loss: 0.009236 \tValidation Loss: 0.025587\n",
      "Epoch: 31 \tTraining Loss: 0.007246 \tValidation Loss: 0.032040\n",
      "Epoch: 32 \tTraining Loss: 0.007957 \tValidation Loss: 0.023462\n",
      "Validation loss decreased (0.024452 --> 0.023462).  Saving model ...\n",
      "Epoch: 33 \tTraining Loss: 0.008309 \tValidation Loss: 0.027984\n",
      "Epoch: 34 \tTraining Loss: 0.007634 \tValidation Loss: 0.030414\n",
      "Epoch: 35 \tTraining Loss: 0.009275 \tValidation Loss: 0.022857\n",
      "Validation loss decreased (0.023462 --> 0.022857).  Saving model ...\n",
      "Epoch: 36 \tTraining Loss: 0.009414 \tValidation Loss: 0.037841\n",
      "Epoch: 37 \tTraining Loss: 0.007709 \tValidation Loss: 0.037292\n",
      "Epoch: 38 \tTraining Loss: 0.006351 \tValidation Loss: 0.028744\n",
      "Epoch: 39 \tTraining Loss: 0.008137 \tValidation Loss: 0.030821\n",
      "Epoch: 40 \tTraining Loss: 0.008017 \tValidation Loss: 0.033832\n",
      "Epoch: 41 \tTraining Loss: 0.008423 \tValidation Loss: 0.035948\n",
      "Epoch: 42 \tTraining Loss: 0.010545 \tValidation Loss: 0.027098\n",
      "Epoch: 43 \tTraining Loss: 0.009778 \tValidation Loss: 0.029114\n",
      "Epoch: 44 \tTraining Loss: 0.008592 \tValidation Loss: 0.034710\n",
      "Epoch: 45 \tTraining Loss: 0.007860 \tValidation Loss: 0.033421\n",
      "Epoch: 46 \tTraining Loss: 0.007310 \tValidation Loss: 0.032640\n",
      "Epoch: 47 \tTraining Loss: 0.005762 \tValidation Loss: 0.035855\n",
      "Epoch: 48 \tTraining Loss: 0.008709 \tValidation Loss: 0.025406\n",
      "Epoch: 49 \tTraining Loss: 0.006225 \tValidation Loss: 0.045012\n",
      "Epoch: 50 \tTraining Loss: 0.006860 \tValidation Loss: 0.032520\n"
     ]
    }
   ],
   "source": [
    "# number of epochs to train the model\n",
    "n_epochs = 50\n",
    "\n",
    "valid_loss_min = np.inf # track change in validation loss\n",
    "\n",
    "for epoch in range(1, n_epochs+1):\n",
    "\n",
    "    # keep track of training and validation loss\n",
    "    train_loss = 0.0\n",
    "    valid_loss = 0.0\n",
    "    \n",
    "    ###################\n",
    "    # train the model #\n",
    "    ###################\n",
    "    model.train()\n",
    "    for data, target in train_loader:\n",
    "        data, target = data.to(device), target.to(device)\n",
    "        # clear the gradients of all optimized variables\n",
    "        optimizer.zero_grad()\n",
    "        # forward pass: compute predicted outputs by passing inputs to the model\n",
    "        output = model(data)\n",
    "        # calculate the batch loss\n",
    "        loss = criterion(output, target)\n",
    "        # backward pass: compute gradient of the loss with respect to model parameters\n",
    "        loss.backward()\n",
    "        # perform a single optimization step (parameter update)\n",
    "        optimizer.step()\n",
    "        # update training loss\n",
    "        train_loss += loss.item()*data.size(0)\n",
    "        \n",
    "    ######################    \n",
    "    # validate the model #\n",
    "    ######################\n",
    "    model.eval()\n",
    "    for data, target in valid_loader:\n",
    "        data, target = data.to(device), target.to(device)\n",
    "        # forward pass: compute predicted outputs by passing inputs to the model\n",
    "        output = model(data)\n",
    "        # calculate the batch loss\n",
    "        loss = criterion(output, target)\n",
    "        # update average validation loss \n",
    "        valid_loss += loss.item()*data.size(0)\n",
    "    \n",
    "    # calculate average losses\n",
    "    train_loss = train_loss/len(train_loader.sampler)\n",
    "    valid_loss = valid_loss/len(valid_loader.sampler)\n",
    "        \n",
    "    # print training/validation statistics \n",
    "    print('Epoch: {} \\tTraining Loss: {:.6f} \\tValidation Loss: {:.6f}'.format(\n",
    "        epoch, train_loss, valid_loss))\n",
    "    \n",
    "    # save model if validation loss has decreased\n",
    "    if valid_loss <= valid_loss_min:\n",
    "        print('Validation loss decreased ({:.6f} --> {:.6f}).  Saving model ...'.format(\n",
    "        valid_loss_min,\n",
    "        valid_loss))\n",
    "        torch.save(model.state_dict(), 'katakanaCNN2.pt') #PyTorch automatically creates this file in your directory\n",
    "        #if it doesn't already exist\n",
    "        valid_loss_min = valid_loss"
   ]
  },
  {
   "cell_type": "markdown",
   "metadata": {},
   "source": [
    "###  Load the Model with the Lowest Validation Loss"
   ]
  },
  {
   "cell_type": "code",
   "execution_count": 13,
   "metadata": {},
   "outputs": [
    {
     "data": {
      "text/plain": [
       "<All keys matched successfully>"
      ]
     },
     "execution_count": 13,
     "metadata": {},
     "output_type": "execute_result"
    }
   ],
   "source": [
    "model.load_state_dict(torch.load('katakanaCNN2.pt'))"
   ]
  },
  {
   "cell_type": "markdown",
   "metadata": {},
   "source": [
    "## Test the Trained Network\n",
    "\n",
    "Test the trained model on previously unseen data"
   ]
  },
  {
   "cell_type": "code",
   "execution_count": 24,
   "metadata": {},
   "outputs": [
    {
     "name": "stdout",
     "output_type": "stream",
     "text": [
      "Test Loss: 0.000511\n",
      "\n",
      "Test Accuracy of     ア: 99% (149/150)\n",
      "Test Accuracy of     イ: 100% (130/130)\n",
      "Test Accuracy of     ウ: 100% (124/124)\n",
      "Test Accuracy of     エ: 100% (128/128)\n",
      "Test Accuracy of     オ: 100% (139/139)\n",
      "Test Accuracy of     カ: 100% (143/143)\n",
      "Test Accuracy of     キ: 100% (132/132)\n",
      "Test Accuracy of     ク: 99% (122/123)\n",
      "Test Accuracy of     ケ: 100% (125/125)\n",
      "Test Accuracy of     コ: 100% (128/128)\n",
      "Test Accuracy of     サ: 100% (130/130)\n",
      "Test Accuracy of     シ: 100% (141/141)\n",
      "Test Accuracy of     ス: 100% (127/127)\n",
      "Test Accuracy of     セ: 100% (131/131)\n",
      "Test Accuracy of     ソ: 100% (146/146)\n",
      "Test Accuracy of     タ: 100% (145/145)\n",
      "Test Accuracy of     チ: 99% (144/145)\n",
      "Test Accuracy of     ツ: 100% (139/139)\n",
      "Test Accuracy of     テ: 100% (142/142)\n",
      "Test Accuracy of     ト: 100% (144/144)\n",
      "Test Accuracy of     ナ: 100% (152/152)\n",
      "Test Accuracy of     ニ: 100% (138/138)\n",
      "Test Accuracy of     ヌ: 100% (139/139)\n",
      "Test Accuracy of     ネ: 100% (138/138)\n",
      "Test Accuracy of     ノ: 100% (131/131)\n",
      "Test Accuracy of     ハ: 100% (130/130)\n",
      "Test Accuracy of     ヒ: 100% (144/144)\n",
      "Test Accuracy of     フ: 100% (131/131)\n",
      "Test Accuracy of     ヘ: 100% (128/128)\n",
      "Test Accuracy of     ホ: 100% (130/130)\n",
      "Test Accuracy of     マ: 99% (134/135)\n",
      "Test Accuracy of     ミ: 100% (144/144)\n",
      "Test Accuracy of     ム: 100% (161/161)\n",
      "Test Accuracy of     メ: 100% (151/151)\n",
      "Test Accuracy of     モ: 100% (147/147)\n",
      "Test Accuracy of     ヤ: 99% (150/151)\n",
      "Test Accuracy of     ユ: 100% (129/129)\n",
      "Test Accuracy of     ヨ: 100% (142/142)\n",
      "Test Accuracy of     ラ: 100% (130/130)\n",
      "Test Accuracy of     リ: 100% (144/144)\n",
      "Test Accuracy of     ル: 100% (143/143)\n",
      "Test Accuracy of     レ: 100% (156/156)\n",
      "Test Accuracy of     ロ: 100% (153/153)\n",
      "Test Accuracy of     ワ: 99% (155/156)\n",
      "Test Accuracy of     ヲ: 99% (142/143)\n",
      "Test Accuracy of     ン: 100% (141/141)\n",
      "\n",
      "Test Accuracy (Overall): 99% (6906/6914)\n"
     ]
    }
   ],
   "source": [
    "# track test loss\n",
    "test_loss = 0.0\n",
    "class_correct = list(0. for i in range(50))\n",
    "class_total = list(0. for i in range(50))\n",
    "\n",
    "model.eval()\n",
    "# iterate over test data\n",
    "for data, target in test_loader:\n",
    "\n",
    "    data, target = data.to(device), target.to(device)\n",
    "    # forward pass: compute predicted outputs by passing inputs to the model\n",
    "    output = model(data)\n",
    "    # calculate the batch loss\n",
    "    loss = criterion(output, target)\n",
    "    # update test loss \n",
    "    test_loss += loss.item()*data.size(0)\n",
    "    # convert output probabilities to predicted class\n",
    "    _, pred = torch.max(output, 1)    \n",
    "    # compare predictions to true label\n",
    "    correct_tensor = pred.eq(target.data.view_as(pred))\n",
    "    correct = np.squeeze(correct_tensor.numpy()) if not torch.backends.mps.is_available() else np.squeeze(correct_tensor.cpu().numpy())\n",
    "    # calculate test accuracy for each object class\n",
    "    for i in range(batch_size):\n",
    "        try:\n",
    "            label = target.data[i]\n",
    "            class_correct[label] += correct[i].item()\n",
    "            class_total[label] += 1\n",
    "        except IndexError:\n",
    "            continue #To avoid IndexError when last batch has less than batch_size images, we could do break, but continue would be more robust\n",
    "\n",
    "# average test loss\n",
    "test_loss = test_loss/len(train_loader.dataset)\n",
    "print('Test Loss: {:.6f}\\n'.format(test_loss))\n",
    "\n",
    "for i in range(46):\n",
    "    if class_total[i] > 0:\n",
    "        print('Test Accuracy of %5s: %2d%% (%2d/%2d)' % (\n",
    "            classes[i], 100 * class_correct[i] / class_total[i],\n",
    "            np.sum(class_correct[i]), np.sum(class_total[i])))\n",
    "    else:\n",
    "        print('Test Accuracy of %5s: N/A (no training examples)' % (classes[i]))\n",
    "\n",
    "print('\\nTest Accuracy (Overall): %2d%% (%2d/%2d)' % (\n",
    "    100. * np.sum(class_correct) / np.sum(class_total),\n",
    "    np.sum(class_correct), np.sum(class_total)))"
   ]
  },
  {
   "cell_type": "markdown",
   "metadata": {},
   "source": [
    "### Now on my own testset\n",
    "\n",
    "If interested to see how well the CNN works in detecting your handwriting, you can take a couple of screenshots of your own handwriting and have them in a folder. You do not have to separate them into the corresponding classes, you can display the image with plt.show(), look at the result and check for yourself.\n",
    "\n",
    "Interesting point to note:\n",
    "\n",
    "**The sample data has white characters on a dark background, so if your colours are inverted, i.e. black characters on white, you will find that it is much less accurate! We will invert the colours in our transforms below**\n",
    "\n",
    "**In fact, even the stroke thickness could affect the result, since the model has only seen that specific handwriting format of the training data and nothing else**\n",
    "\n",
    "For a general purpose OCR, this counts as overfitting; however, for the purpose of a handwriting practice web app, I intend to restrict the stroke thickness and formatting to match that of the training data, hence it is not a problem."
   ]
  },
  {
   "cell_type": "code",
   "execution_count": null,
   "metadata": {},
   "outputs": [
    {
     "data": {
      "image/png": "[encoded data removed]",
      "text/plain": [
       "<Figure size 640x480 with 1 Axes>"
      ]
     },
     "metadata": {},
     "output_type": "display_data"
    },
    {
     "name": "stdout",
     "output_type": "stream",
     "text": [
      "torch.Size([1, 1, 32, 32])\n"
     ]
    }
   ],
   "source": [
    "test_dir = '/Users/krishteee/Desktop/JapaneseOCR/EmergentWebAppDemo' #Replace with the directory containing your own handwritings\n",
    "\n",
    "my_test_transform = transforms.Compose([transforms.Resize(36),\n",
    "                                        transforms.CenterCrop(32),\n",
    "                                        transforms.Grayscale(num_output_channels = 1),\n",
    "                                        transforms.ToTensor(),\n",
    "                                        transforms.Normalize((0.5),(0.5)),\n",
    "                                        transforms.Lambda(lambda x: transforms.functional.invert(x))]) #Inverting colors because my test set has black characters on white bg\n",
    "\n",
    "my_test_set = datasets.ImageFolder(test_dir, transform = my_test_transform)\n",
    "my_test_loader = torch.utils.data.DataLoader(my_test_set, batch_size = 1, shuffle = True)\n",
    "\n",
    "image, label = next(iter(my_test_loader))\n",
    "imshow(image[0])\n",
    "plt.show()\n",
    "print(image.shape)"
   ]
  },
  {
   "cell_type": "code",
   "execution_count": null,
   "metadata": {},
   "outputs": [
    {
     "name": "stdout",
     "output_type": "stream",
     "text": [
      "torch.Size([1, 1, 32, 32])\n",
      "Images[0] --> キ, Second likely --> モ\n"
     ]
    },
    {
     "data": {
      "image/png": "[encoded data removed]",
      "text/plain": [
       "<Figure size 640x480 with 1 Axes>"
      ]
     },
     "metadata": {},
     "output_type": "display_data"
    }
   ],
   "source": [
    "images, labels = next(iter(my_test_loader))\n",
    "\n",
    "\n",
    "model.to(device)\n",
    "images, labels = images.to(device), labels.to(device)\n",
    "model.eval()\n",
    "\n",
    "output = model(images)\n",
    "top_k_val, top_k_idx = output.topk(2, dim = 1)\n",
    "\n",
    "\n",
    "for i in range(images.shape[0]):\n",
    "    imshow(images[i].cpu())\n",
    "    print(f\"Images[{i}]: Most likely --> {classes[top_k_idx[i][0].item()]}, Second likely --> {classes[top_k_idx[i][1].item()]}\")\n",
    "    plt.show()\n"
   ]
  }
 ],
 "metadata": {
  "anaconda-cloud": {},
  "kernelspec": {
   "display_name": "DeepLearning3",
   "language": "python",
   "name": "python3"
  },
  "language_info": {
   "codemirror_mode": {
    "name": "ipython",
    "version": 3
   },
   "file_extension": ".py",
   "mimetype": "text/x-python",
   "name": "python",
   "nbconvert_exporter": "python",
   "pygments_lexer": "ipython3",
   "version": "3.13.5"
  }
 },
 "nbformat": 4,
 "nbformat_minor": 2
}
